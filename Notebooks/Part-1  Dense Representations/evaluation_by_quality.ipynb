{
 "cells": [
  {
   "cell_type": "markdown",
   "metadata": {},
   "source": [
    "# Word Embeddings Quality Evaluation\n",
    "\n",
    "This notebook evaluates custom word embeddings against pre-trained models (Word2Vec, FastText, GloVe) using various quality metrics:\n",
    "- Cosine similarity comparisons\n",
    "- Clustering visualization\n",
    "- Analogy tasks\n",
    "- Top-k word predictions\n",
    "- Semantic coherence tests\n",
    "\n",
    "## Setup and Dependencies"
   ]
  },
  {
   "cell_type": "code",
   "execution_count": 1,
   "metadata": {},
   "outputs": [
    {
     "name": "stdout",
     "output_type": "stream",
     "text": [
      "Defaulting to user installation because normal site-packages is not writeable\n",
      "Requirement already satisfied: gensim in /opt/anaconda3/envs/gpu/lib/python3.11/site-packages (4.3.0)\n",
      "Requirement already satisfied: numpy in /home/intern/.local/lib/python3.11/site-packages (1.24.4)\n",
      "Requirement already satisfied: matplotlib in /home/intern/.local/lib/python3.11/site-packages (3.3.4)\n",
      "Requirement already satisfied: seaborn in /opt/anaconda3/envs/gpu/lib/python3.11/site-packages (0.12.2)\n",
      "Requirement already satisfied: scikit-learn in /home/intern/.local/lib/python3.11/site-packages (1.7.0)\n",
      "Requirement already satisfied: plotly in /opt/anaconda3/envs/gpu/lib/python3.11/site-packages (5.9.0)\n",
      "Requirement already satisfied: umap-learn in /home/intern/.local/lib/python3.11/site-packages (0.5.7)\n",
      "Requirement already satisfied: wordcloud in /home/intern/.local/lib/python3.11/site-packages (1.9.4)\n",
      "Requirement already satisfied: scipy>=1.7.0 in /home/intern/.local/lib/python3.11/site-packages (from gensim) (1.10.1)\n",
      "Requirement already satisfied: smart-open>=1.8.1 in /opt/anaconda3/envs/gpu/lib/python3.11/site-packages (from gensim) (5.2.1)\n",
      "Requirement already satisfied: FuzzyTM>=0.4.0 in /home/intern/.local/lib/python3.11/site-packages (from gensim) (2.0.9)\n",
      "Requirement already satisfied: cycler>=0.10 in /opt/anaconda3/envs/gpu/lib/python3.11/site-packages (from matplotlib) (0.11.0)\n",
      "Requirement already satisfied: kiwisolver>=1.0.1 in /opt/anaconda3/envs/gpu/lib/python3.11/site-packages (from matplotlib) (1.4.4)\n",
      "Requirement already satisfied: pillow>=6.2.0 in /opt/anaconda3/envs/gpu/lib/python3.11/site-packages (from matplotlib) (10.3.0)\n",
      "Requirement already satisfied: pyparsing!=2.0.4,!=2.1.2,!=2.1.6,>=2.0.3 in /opt/anaconda3/envs/gpu/lib/python3.11/site-packages (from matplotlib) (3.0.9)\n",
      "Requirement already satisfied: python-dateutil>=2.1 in /opt/anaconda3/envs/gpu/lib/python3.11/site-packages (from matplotlib) (2.8.2)\n",
      "Requirement already satisfied: pandas>=0.25 in /home/intern/.local/lib/python3.11/site-packages (from seaborn) (1.5.3)\n",
      "Requirement already satisfied: joblib>=1.2.0 in /opt/anaconda3/envs/gpu/lib/python3.11/site-packages (from scikit-learn) (1.2.0)\n",
      "Requirement already satisfied: threadpoolctl>=3.1.0 in /home/intern/.local/lib/python3.11/site-packages (from scikit-learn) (3.6.0)\n",
      "Requirement already satisfied: tenacity>=6.2.0 in /opt/anaconda3/envs/gpu/lib/python3.11/site-packages (from plotly) (8.2.2)\n",
      "Requirement already satisfied: numba>=0.51.2 in /opt/anaconda3/envs/gpu/lib/python3.11/site-packages (from umap-learn) (0.59.1)\n",
      "Requirement already satisfied: pynndescent>=0.5 in /home/intern/.local/lib/python3.11/site-packages (from umap-learn) (0.5.13)\n",
      "Requirement already satisfied: tqdm in /opt/anaconda3/envs/gpu/lib/python3.11/site-packages (from umap-learn) (4.65.0)\n",
      "Requirement already satisfied: pyfume in /home/intern/.local/lib/python3.11/site-packages (from FuzzyTM>=0.4.0->gensim) (0.3.4)\n",
      "Requirement already satisfied: llvmlite<0.43,>=0.42.0dev0 in /opt/anaconda3/envs/gpu/lib/python3.11/site-packages (from numba>=0.51.2->umap-learn) (0.42.0)\n",
      "Requirement already satisfied: pytz>=2020.1 in /opt/anaconda3/envs/gpu/lib/python3.11/site-packages (from pandas>=0.25->seaborn) (2023.3.post1)\n",
      "Requirement already satisfied: six>=1.5 in /opt/anaconda3/envs/gpu/lib/python3.11/site-packages (from python-dateutil>=2.1->matplotlib) (1.16.0)\n",
      "Requirement already satisfied: simpful==2.12.0 in /home/intern/.local/lib/python3.11/site-packages (from pyfume->FuzzyTM>=0.4.0->gensim) (2.12.0)\n",
      "Requirement already satisfied: fst-pso==1.8.1 in /home/intern/.local/lib/python3.11/site-packages (from pyfume->FuzzyTM>=0.4.0->gensim) (1.8.1)\n",
      "Requirement already satisfied: miniful in /home/intern/.local/lib/python3.11/site-packages (from fst-pso==1.8.1->pyfume->FuzzyTM>=0.4.0->gensim) (0.0.6)\n"
     ]
    }
   ],
   "source": [
    "# Install required packages\n",
    "!pip install gensim numpy matplotlib seaborn scikit-learn plotly umap-learn wordcloud"
   ]
  },
  {
   "cell_type": "code",
   "execution_count": 2,
   "metadata": {},
   "outputs": [
    {
     "name": "stderr",
     "output_type": "stream",
     "text": [
      "2025-06-19 12:53:13.276537: I tensorflow/core/platform/cpu_feature_guard.cc:210] This TensorFlow binary is optimized to use available CPU instructions in performance-critical operations.\n",
      "To enable the following instructions: SSE4.1 SSE4.2 AVX AVX2 FMA, in other operations, rebuild TensorFlow with the appropriate compiler flags.\n"
     ]
    },
    {
     "name": "stdout",
     "output_type": "stream",
     "text": [
      "✅ All libraries imported successfully!\n",
      "🚀 Ready to evaluate word embeddings!\n"
     ]
    }
   ],
   "source": [
    "import os\n",
    "import numpy as np\n",
    "import pandas as pd\n",
    "import matplotlib.pyplot as plt\n",
    "import seaborn as sns\n",
    "import plotly.express as px\n",
    "import plotly.graph_objects as go\n",
    "from plotly.subplots import make_subplots\n",
    "\n",
    "# Machine learning and embeddings\n",
    "import gensim.downloader as api\n",
    "from gensim.models import KeyedVectors\n",
    "from sklearn.decomposition import PCA\n",
    "from sklearn.manifold import TSNE\n",
    "from sklearn.cluster import KMeans\n",
    "from sklearn.metrics.pairwise import cosine_similarity\n",
    "from sklearn.preprocessing import StandardScaler\n",
    "import umap\n",
    "\n",
    "# Visualization settings\n",
    "sns.set_palette(\"husl\")\n",
    "plt.rcParams['figure.figsize'] = (12, 8)\n",
    "\n",
    "print(\"✅ All libraries imported successfully!\")\n",
    "print(\"🚀 Ready to evaluate word embeddings!\")"
   ]
  },
  {
   "cell_type": "markdown",
   "metadata": {},
   "source": [
    "## 1. Load Your Custom Embeddings\n",
    "\n",
    "**Please update the path below to point to your .npy embedding file**"
   ]
  },
  {
   "cell_type": "code",
   "execution_count": null,
   "metadata": {},
   "outputs": [
    {
     "name": "stdout",
     "output_type": "stream",
     "text": [
      "Loading custom embeddings from: /home/intern/Desktop/pcog  prep/PreCog/Models/english_cooccurrence_embeddings.npy\n",
      "✅ Loaded embeddings shape: (10000, 200)\n",
      "⚠️ No vocabulary file provided. Using dummy vocabulary.\n",
      "📚 Vocabulary size: 10000\n",
      "🔢 Embedding dimension: 200\n",
      "🎉 Custom embeddings loaded successfully!\n"
     ]
    }
   ],
   "source": [
    "CUSTOM_EMBEDDINGS_PATH = \"/home/intern/Desktop/pcog  prep/PreCog/Models/english_cooccurrence_embeddings.npy\"  # Update this with which file you want to work\n",
    "\n",
    "\n",
    "class CustomEmbeddingLoader:\n",
    "    def __init__(self, embeddings_path, vocab_path=None):\n",
    "        self.embeddings_path = embeddings_path\n",
    "        self.vocab_path = vocab_path\n",
    "        self.embeddings = None\n",
    "        self.vocab = None\n",
    "        self.word_to_idx = {}\n",
    "        \n",
    "    def load_embeddings(self):\n",
    "        \"\"\"Load embeddings from .npy file\"\"\"\n",
    "        print(f\"Loading custom embeddings from: {self.embeddings_path}\")\n",
    "        self.embeddings = np.load(self.embeddings_path)\n",
    "        print(f\"✅ Loaded embeddings shape: {self.embeddings.shape}\")\n",
    "        \n",
    "        # Load vocabulary if available\n",
    "        if self.vocab_path and os.path.exists(self.vocab_path):\n",
    "            with open(self.vocab_path, 'r', encoding='utf-8') as f:\n",
    "                self.vocab = [line.strip() for line in f]\n",
    "        else:\n",
    "            # Create dummy vocabulary if not provided\n",
    "            self.vocab = [f\"word_{i}\" for i in range(self.embeddings.shape[0])]\n",
    "            print(\"⚠️ No vocabulary file provided. Using dummy vocabulary.\")\n",
    "        \n",
    "        # Create word to index mapping\n",
    "        self.word_to_idx = {word: idx for idx, word in enumerate(self.vocab)}\n",
    "        \n",
    "        print(f\"📚 Vocabulary size: {len(self.vocab)}\")\n",
    "        print(f\"🔢 Embedding dimension: {self.embeddings.shape[1]}\")\n",
    "        \n",
    "        return self\n",
    "    \n",
    "    def get_vector(self, word):\n",
    "        \"\"\"Get embedding vector for a word\"\"\"\n",
    "        if word in self.word_to_idx:\n",
    "            return self.embeddings[self.word_to_idx[word]]\n",
    "        return None\n",
    "    \n",
    "    def most_similar(self, word, topn=10):\n",
    "        \"\"\"Find most similar words using cosine similarity\"\"\"\n",
    "        if word not in self.word_to_idx:\n",
    "            return []\n",
    "        \n",
    "        word_vec = self.get_vector(word)\n",
    "        similarities = cosine_similarity([word_vec], self.embeddings)[0]\n",
    "        \n",
    "        # Get top similar words (excluding the word itself)\n",
    "        similar_indices = np.argsort(similarities)[::-1][1:topn+1]\n",
    "        \n",
    "        return [(self.vocab[idx], similarities[idx]) for idx in similar_indices]\n",
    "\n",
    "# Load your custom embeddings\n",
    "try:\n",
    "    custom_loader = CustomEmbeddingLoader(CUSTOM_EMBEDDINGS_PATH)\n",
    "    custom_loader.load_embeddings()\n",
    "    print(\"🎉 Custom embeddings loaded successfully!\")\n",
    "except Exception as e:\n",
    "    print(f\"❌ Error loading custom embeddings: {e}\")\n",
    "    print(\"Please update the CUSTOM_EMBEDDINGS_PATH variable above.\")"
   ]
  },
  {
   "cell_type": "markdown",
   "metadata": {},
   "source": [
    "## 2. Download and Load Pre-trained Models"
   ]
  },
  {
   "cell_type": "code",
   "execution_count": 4,
   "metadata": {},
   "outputs": [
    {
     "name": "stdout",
     "output_type": "stream",
     "text": [
      "🔄 Loading pre-trained embedding models...\n",
      "📂 Loading existing Word2Vec model...\n",
      "✅ Word2Vec loaded: 3000000 words\n",
      "📂 Loading existing GloVe model...\n",
      "✅ GloVe loaded: 400000 words\n",
      "📂 Loading existing FastText model...\n",
      "✅ FastText loaded: 999999 words\n",
      "\n",
      "🎉 Pre-trained models loading complete!\n"
     ]
    }
   ],
   "source": [
    "def download_and_save_pretrained_models():\n",
    "    \"\"\"Download and save pre-trained embedding models\"\"\"\n",
    "    \n",
    "    # Create Pre-trained folder\n",
    "    pretrained_folder = \"/home/intern/Desktop/pcog  prep/PreCog/Notebooks/Part-2  Cross-Lingual Alignment/Pre-trained\"\n",
    "    if not os.path.exists(pretrained_folder):\n",
    "        os.makedirs(pretrained_folder)\n",
    "        print(f\"📁 Created folder: {pretrained_folder}\")\n",
    "    \n",
    "    models = {}\n",
    "    \n",
    "    # 1. Word2Vec (Google News)\n",
    "    word2vec_path = os.path.join(pretrained_folder, 'word2vec.bin')\n",
    "    try:\n",
    "        if not os.path.exists(word2vec_path):\n",
    "            print(\"📥 Downloading Word2Vec (Google News)...\")\n",
    "            word2vec_model = api.load('word2vec')\n",
    "            word2vec_model.save(word2vec_path)\n",
    "            print(f\"💾 Word2Vec saved to: {word2vec_path}\")\n",
    "        else:\n",
    "            print(\"📂 Loading existing Word2Vec model...\")\n",
    "            word2vec_model = KeyedVectors.load(word2vec_path)\n",
    "        \n",
    "        models['word2vec'] = word2vec_model\n",
    "        print(f\"✅ Word2Vec loaded: {len(word2vec_model)} words\")\n",
    "    except Exception as e:\n",
    "        print(f\"❌ Failed to load Word2Vec: {e}\")\n",
    "        models['word2vec'] = None\n",
    "    \n",
    "    # 2. GloVe\n",
    "    glove_path = os.path.join(pretrained_folder, 'glove.bin')\n",
    "    try:\n",
    "        if not os.path.exists(glove_path):\n",
    "            print(\"📥 Downloading GloVe...\")\n",
    "            glove_model = api.load('glove')\n",
    "            glove_model.save(glove_path)\n",
    "            print(f\"💾 GloVe saved to: {glove_path}\")\n",
    "        else:\n",
    "            print(\"📂 Loading existing GloVe model...\")\n",
    "            glove_model = KeyedVectors.load(glove_path)\n",
    "        \n",
    "        models['glove'] = glove_model\n",
    "        print(f\"✅ GloVe loaded: {len(glove_model)} words\")\n",
    "    except Exception as e:\n",
    "        print(f\"❌ Failed to load GloVe: {e}\")\n",
    "        models['glove'] = None\n",
    "    \n",
    "    # 3. FastText\n",
    "    fasttext_path = os.path.join(pretrained_folder, 'fasttext.bin')\n",
    "    try:\n",
    "        if not os.path.exists(fasttext_path):\n",
    "            print(\"📥 Downloading FastText...\")\n",
    "            fasttext_model = api.load('fasttext')\n",
    "            fasttext_model.save(fasttext_path)\n",
    "            print(f\"💾 FastText saved to: {fasttext_path}\")\n",
    "        else:\n",
    "            print(\"📂 Loading existing FastText model...\")\n",
    "            fasttext_model = KeyedVectors.load(fasttext_path)\n",
    "        \n",
    "        models['fasttext'] = fasttext_model\n",
    "        print(f\"✅ FastText loaded: {len(fasttext_model)} words\")\n",
    "    except Exception as e:\n",
    "        print(f\"❌ Failed to load FastText: {e}\")\n",
    "        models['fasttext'] = None\n",
    "    \n",
    "    return models\n",
    "\n",
    "# Download and load all pre-trained models\n",
    "print(\"🔄 Loading pre-trained embedding models...\")\n",
    "pretrained_models = download_and_save_pretrained_models()\n",
    "print(\"\\n🎉 Pre-trained models loading complete!\")"
   ]
  },
  {
   "cell_type": "markdown",
   "metadata": {},
   "source": [
    "## 3. Cosine Similarity Evaluation"
   ]
  },
  {
   "cell_type": "code",
   "execution_count": 12,
   "metadata": {},
   "outputs": [
    {
     "name": "stdout",
     "output_type": "stream",
     "text": [
      "🔍 Evaluating word similarities...\n",
      "📊 Computing pairwise similarities...\n",
      "\n",
      "📋 Similarity Results Summary:\n",
      "Custom Embeddings Cosine Similarity for Word Pairs:\n",
      "  (king, queen): N/A\n",
      "  (man, woman): N/A\n",
      "  (computer, technology): N/A\n",
      "  (love, hate): N/A\n",
      "  (good, bad): N/A\n",
      "  (happy, sad): N/A\n",
      "  (big, large): N/A\n",
      "  (small, tiny): N/A\n",
      "  (fast, quick): N/A\n",
      "\n",
      "🔤 Word: king\n",
      "  word2vec    : ['kings', 'queen', 'monarch']\n",
      "  glove       : ['queen', 'prince', 'monarch']\n",
      "  fasttext    : ['king-', 'boy-king', 'queen']\n",
      "\n",
      "🔤 Word: queen\n",
      "  word2vec    : ['queens', 'princess', 'king']\n",
      "  glove       : ['elizabeth', 'princess', 'king']\n",
      "  fasttext    : ['queens', 'king', 'queendom']\n",
      "\n",
      "🔤 Word: man\n",
      "  word2vec    : ['woman', 'boy', 'teenager']\n",
      "  glove       : ['woman', 'person', 'boy']\n",
      "  fasttext    : ['woman', 'man--', 'man--and']\n",
      "\n",
      "🔤 Word: woman\n",
      "  word2vec    : ['man', 'girl', 'teenage_girl']\n",
      "  glove       : ['girl', 'man', 'mother']\n",
      "  fasttext    : ['man', 'woman--', 'lady']\n",
      "\n",
      "🔤 Word: computer\n",
      "  word2vec    : ['computers', 'laptop', 'laptop_computer']\n",
      "  glove       : ['computers', 'software', 'pc']\n",
      "  fasttext    : ['computers', 'non-computer', 'mini-computer']\n",
      "\n",
      "🔤 Word: technology\n",
      "  word2vec    : ['technologies', 'innovations', 'technological_innovations']\n",
      "  glove       : ['technologies', 'tech', 'technological']\n",
      "  fasttext    : ['technologies', 'techology', 'technlogy']\n",
      "\n",
      "🔤 Word: love\n",
      "  word2vec    : ['loved', 'adore', 'loves']\n",
      "  glove       : ['loves', 'passion', 'loved']\n",
      "  fasttext    : ['love--and', 'loves', 'love--']\n",
      "\n",
      "🔤 Word: hate\n",
      "  word2vec    : ['despise', 'Hate', 'detest']\n",
      "  glove       : ['hatred', 'racist', 'racism']\n",
      "  fasttext    : ['despise', 'hatred', 'hate-']\n",
      "\n",
      "🔤 Word: good\n",
      "  word2vec    : ['great', 'bad', 'terrific']\n",
      "  glove       : ['better', 'really', 'always']\n",
      "  fasttext    : ['bad', 'goood', 'excellent']\n",
      "\n",
      "🔤 Word: bad\n",
      "  word2vec    : ['good', 'terrible', 'horrible']\n",
      "  glove       : ['good', 'things', 'worse']\n",
      "  fasttext    : ['good', 'good-bad', 'terrible']\n"
     ]
    }
   ],
   "source": [
    "class SimilarityEvaluator:\n",
    "    def __init__(self, custom_loader, pretrained_models):\n",
    "        self.custom_loader = custom_loader\n",
    "        self.pretrained_models = pretrained_models\n",
    "        \n",
    "    def evaluate_word_similarities(self, test_words):\n",
    "        \"\"\"Compare similarity rankings across all models\"\"\"\n",
    "        results = {}\n",
    "        \n",
    "        for word in test_words:\n",
    "            word_results = {'word': word}\n",
    "            \n",
    "            # Custom embeddings\n",
    "            if hasattr(self.custom_loader, 'most_similar'):\n",
    "                custom_similar = self.custom_loader.most_similar(word, topn=5)\n",
    "                word_results['custom'] = custom_similar\n",
    "            \n",
    "            # Pre-trained models\n",
    "            for model_name, model in self.pretrained_models.items():\n",
    "                if model and word in model:\n",
    "                    try:\n",
    "                        similar_words = model.most_similar(word, topn=5)\n",
    "                        word_results[model_name] = similar_words\n",
    "                    except:\n",
    "                        word_results[model_name] = []\n",
    "                else:\n",
    "                    word_results[model_name] = []\n",
    "            \n",
    "            results[word] = word_results\n",
    "        \n",
    "        return results\n",
    "    \n",
    "    def compute_pairwise_similarities(self, word_pairs):\n",
    "        \"\"\"Compute cosine similarities for word pairs across models\"\"\"\n",
    "        similarity_results = []\n",
    "        \n",
    "        for word1, word2 in word_pairs:\n",
    "            pair_result = {'word1': word1, 'word2': word2}\n",
    "            \n",
    "            # Custom embeddings\n",
    "            vec1_custom = self.custom_loader.get_vector(word1)\n",
    "            vec2_custom = self.custom_loader.get_vector(word2)\n",
    "            if vec1_custom is not None and vec2_custom is not None:\n",
    "                custom_sim = cosine_similarity([vec1_custom], [vec2_custom])[0][0]\n",
    "                pair_result['custom'] = custom_sim\n",
    "            else:\n",
    "                pair_result['custom'] = None\n",
    "            \n",
    "            # Pre-trained models\n",
    "            for model_name, model in self.pretrained_models.items():\n",
    "                if model and word1 in model and word2 in model:\n",
    "                    try:\n",
    "                        similarity = model.similarity(word1, word2)\n",
    "                        pair_result[model_name] = similarity\n",
    "                    except:\n",
    "                        pair_result[model_name] = None\n",
    "                else:\n",
    "                    pair_result[model_name] = None\n",
    "            \n",
    "            similarity_results.append(pair_result)\n",
    "        \n",
    "        return similarity_results\n",
    "\n",
    "# Define test words and word pairs\n",
    "test_words = ['king', 'queen', 'man', 'woman', 'computer', 'technology', 'love', 'hate', 'good', 'bad']\n",
    "word_pairs = [\n",
    "    ('king', 'queen'), ('man', 'woman'), ('computer', 'technology'),\n",
    "    ('love', 'hate'), ('good', 'bad'), ('happy', 'sad'),\n",
    "    ('big', 'large'), ('small', 'tiny'), ('fast', 'quick')\n",
    "]\n",
    "\n",
    "# Create evaluator and run similarity tests\n",
    "if 'custom_loader' in locals():\n",
    "    evaluator = SimilarityEvaluator(custom_loader, pretrained_models)\n",
    "    \n",
    "    print(\"🔍 Evaluating word similarities...\")\n",
    "    similarity_results = evaluator.evaluate_word_similarities(test_words)\n",
    "    \n",
    "    print(\"📊 Computing pairwise similarities...\")\n",
    "    pairwise_results = evaluator.compute_pairwise_similarities(word_pairs)\n",
    "    \n",
    "    # Display results\n",
    "    print(\"\\n📋 Similarity Results Summary:\")\n",
    "    for word, results in similarity_results.items():\n",
    "        print(f\"\\n🔤 Word: {word}\")\n",
    "        for model_name, similar_words in results.items():\n",
    "            if model_name != 'word' and similar_words:\n",
    "                top_3 = similar_words[:3] if len(similar_words) >= 3 else similar_words\n",
    "                print(f\"  {model_name:12}: {[w[0] for w in top_3]}\")\n",
    "else:\n",
    "    print(\"⚠️ Custom embeddings not loaded. Please check the file path above.\")"
   ]
  },
  {
   "cell_type": "markdown",
   "metadata": {},
   "source": [
    "## 4. Visualization: Clustering and Dimensionality Reduction"
   ]
  },
  {
   "cell_type": "code",
   "execution_count": 7,
   "metadata": {},
   "outputs": [
    {
     "name": "stdout",
     "output_type": "stream",
     "text": [
      "🎨 Preparing visualization data...\n",
      "📊 Creating t-SNE visualization...\n"
     ]
    },
    {
     "name": "stderr",
     "output_type": "stream",
     "text": [
      "/opt/anaconda3/envs/gpu/lib/python3.11/site-packages/IPython/core/pylabtools.py:152: MatplotlibDeprecationWarning: savefig() got unexpected keyword argument \"orientation\" which is no longer supported as of 3.3 and will become an error two minor releases later\n",
      "  fig.canvas.print_figure(bytes_io, **kw)\n",
      "/opt/anaconda3/envs/gpu/lib/python3.11/site-packages/IPython/core/pylabtools.py:152: MatplotlibDeprecationWarning: savefig() got unexpected keyword argument \"dpi\" which is no longer supported as of 3.3 and will become an error two minor releases later\n",
      "  fig.canvas.print_figure(bytes_io, **kw)\n",
      "/opt/anaconda3/envs/gpu/lib/python3.11/site-packages/IPython/core/pylabtools.py:152: MatplotlibDeprecationWarning: savefig() got unexpected keyword argument \"facecolor\" which is no longer supported as of 3.3 and will become an error two minor releases later\n",
      "  fig.canvas.print_figure(bytes_io, **kw)\n",
      "/opt/anaconda3/envs/gpu/lib/python3.11/site-packages/IPython/core/pylabtools.py:152: MatplotlibDeprecationWarning: savefig() got unexpected keyword argument \"edgecolor\" which is no longer supported as of 3.3 and will become an error two minor releases later\n",
      "  fig.canvas.print_figure(bytes_io, **kw)\n",
      "/opt/anaconda3/envs/gpu/lib/python3.11/site-packages/IPython/core/pylabtools.py:152: MatplotlibDeprecationWarning: savefig() got unexpected keyword argument \"bbox_inches_restore\" which is no longer supported as of 3.3 and will become an error two minor releases later\n",
      "  fig.canvas.print_figure(bytes_io, **kw)\n"
     ]
    },
    {
     "data": {
      "image/png": "[encoded data removed]",
      "text/plain": [
       "<Figure size 1600x1200 with 4 Axes>"
      ]
     },
     "metadata": {},
     "output_type": "display_data"
    },
    {
     "name": "stdout",
     "output_type": "stream",
     "text": [
      "🌐 Creating interactive visualization...\n"
     ]
    },
    {
     "name": "stderr",
     "output_type": "stream",
     "text": [
      "/home/intern/.local/lib/python3.11/site-packages/sklearn/utils/deprecation.py:132: FutureWarning:\n",
      "\n",
      "'force_all_finite' was renamed to 'ensure_all_finite' in 1.6 and will be removed in 1.8.\n",
      "\n",
      "/home/intern/.local/lib/python3.11/site-packages/umap/umap_.py:1952: UserWarning:\n",
      "\n",
      "n_jobs value 1 overridden to 1 by setting random_state. Use no seed for parallelism.\n",
      "\n"
     ]
    },
    {
     "data": {
      "application/vnd.plotly.v1+json": {
       "config": {
        "plotlyServerURL": "https://plot.ly"
       },
       "data": [
        {
         "hovertemplate": "<b>%{text}</b><br>X: %{x:.2f}<br>Y: %{y:.2f}<extra></extra>",
         "marker": {
          "opacity": 0.7,
          "size": 8
         },
         "mode": "markers+text",
         "name": "Custom",
         "text": [
          "word_0",
          "word_1",
          "word_2",
          "word_3",
          "word_4",
          "word_5",
          "word_6",
          "word_7",
          "word_8",
          "word_9",
          "word_10",
          "word_11",
          "word_12",
          "word_13",
          "word_14",
          "word_15",
          "word_16",
          "word_17",
          "word_18",
          "word_19",
          "word_20",
          "word_21",
          "word_22",
          "word_23",
          "word_24",
          "word_25",
          "word_26",
          "word_27",
          "word_28",
          "word_29",
          "word_30",
          "word_31",
          "word_32",
          "word_33",
          "word_34",
          "word_35",
          "word_36",
          "word_37",
          "word_38",
          "word_39",
          "word_40",
          "word_41",
          "word_42",
          "word_43",
          "word_44",
          "word_45",
          "word_46",
          "word_47",
          "word_48",
          "word_49",
          "word_50",
          "word_51",
          "word_52",
          "word_53",
          "word_54",
          "word_55",
          "word_56",
          "word_57",
          "word_58",
          "word_59",
          "word_60",
          "word_61",
          "word_62",
          "word_63",
          "word_64",
          "word_65",
          "word_66",
          "word_67",
          "word_68",
          "word_69",
          "word_70",
          "word_71",
          "word_72",
          "word_73",
          "word_74",
          "word_75",
          "word_76",
          "word_77",
          "word_78",
          "word_79",
          "word_80",
          "word_81",
          "word_82",
          "word_83",
          "word_84",
          "word_85",
          "word_86",
          "word_87",
          "word_88",
          "word_89",
          "word_90",
          "word_91",
          "word_92",
          "word_93",
          "word_94",
          "word_95",
          "word_96",
          "word_97",
          "word_98",
          "word_99"
         ],
         "textposition": "top center",
         "type": "scatter",
         "x": [
          3.835505962371826,
          3.838649272918701,
          3.973154067993164,
          3.713902235031128,
          3.6335017681121826,
          3.538907527923584,
          2.6085121631622314,
          2.86696457862854,
          2.618565320968628,
          2.60211443901062,
          2.448009729385376,
          0.14242197573184967,
          2.0445590019226074,
          1.2773051261901855,
          0.44561120867729187,
          1.6728365421295166,
          0.6716511845588684,
          0.6725670695304871,
          0.6038916707038879,
          0.06495268642902374,
          -0.2376061975955963,
          1.1402860879898071,
          1.6307238340377808,
          -1.8014225959777832,
          1.3754302263259888,
          -0.06119699403643608,
          -1.7856543064117432,
          -0.13010907173156738,
          -1.0682690143585205,
          -0.22535325586795807,
          -0.5657250285148621,
          -0.8566305637359619,
          -0.3886339068412781,
          -1.7646359205245972,
          -0.6891603469848633,
          0.03301585093140602,
          -0.6384038329124451,
          -0.9214372634887695,
          -0.07078564167022705,
          -1.488590121269226,
          -1.5585929155349731,
          -1.5921125411987305,
          -0.2868998348712921,
          -0.876740038394928,
          -0.7925073504447937,
          -2.860180616378784,
          -1.0003806352615356,
          -1.9239429235458374,
          -2.2934625148773193,
          -2.7394936084747314,
          -1.474584937095642,
          -2.2118043899536133,
          -1.0210471153259277,
          -2.3060998916625977,
          -3.2942910194396973,
          -2.289904832839966,
          -4.767091274261475,
          -2.0773894786834717,
          -2.0829646587371826,
          -2.065580368041992,
          -4.030421257019043,
          -2.9837093353271484,
          -2.9519665241241455,
          -3.265017032623291,
          -3.5252785682678223,
          -3.8202154636383057,
          -2.8204944133758545,
          -2.4576351642608643,
          -2.5706684589385986,
          -4.397958278656006,
          -4.696617126464844,
          -4.609328746795654,
          -3.212268590927124,
          -3.847012519836426,
          -2.7301666736602783,
          -3.476952314376831,
          -2.9679081439971924,
          -2.745663642883301,
          -4.9929351806640625,
          -4.327385902404785,
          -3.173752784729004,
          -4.693144798278809,
          -4.974562644958496,
          -4.25724458694458,
          -3.5496628284454346,
          -4.862276077270508,
          -2.72304368019104,
          -4.863336563110352,
          -3.805551528930664,
          -3.2465968132019043,
          -4.124353885650635,
          -3.783994674682617,
          -3.5727908611297607,
          -3.694084644317627,
          -3.344733953475952,
          -3.716775417327881,
          -3.6887214183807373,
          -4.8687663078308105,
          -4.397032260894775,
          -3.715553045272827
         ],
         "xaxis": "x",
         "y": [
          19.570220947265625,
          19.77412986755371,
          19.558603286743164,
          19.44791603088379,
          19.543842315673828,
          19.4470157623291,
          19.641050338745117,
          19.790224075317383,
          19.742448806762695,
          19.80646324157715,
          19.92708396911621,
          20.951461791992188,
          19.935970306396484,
          20.439964294433594,
          20.65121078491211,
          20.179141998291016,
          20.858505249023438,
          20.58809471130371,
          21.300933837890625,
          21.409231185913086,
          21.08209800720215,
          20.66252326965332,
          20.217910766601562,
          21.78288459777832,
          20.4102783203125,
          20.74647331237793,
          22.088930130004883,
          21.140974044799805,
          21.35614776611328,
          21.733158111572266,
          21.012744903564453,
          21.77973747253418,
          21.07942008972168,
          21.92130470275879,
          21.40448570251465,
          22.113157272338867,
          22.51524543762207,
          21.513195037841797,
          22.44591522216797,
          22.269203186035156,
          22.724201202392578,
          23.189889907836914,
          22.547019958496094,
          23.31316375732422,
          22.285259246826172,
          22.854145050048828,
          23.167165756225586,
          23.422597885131836,
          22.78374671936035,
          21.91475486755371,
          23.429357528686523,
          24.045820236206055,
          22.021270751953125,
          24.015413284301758,
          23.053808212280273,
          23.23103904724121,
          23.697492599487305,
          23.282989501953125,
          22.52347755432129,
          22.30876922607422,
          23.908052444458008,
          23.68155860900879,
          22.340404510498047,
          22.361318588256836,
          22.145370483398438,
          23.572423934936523,
          23.318954467773438,
          23.739561080932617,
          24.08045196533203,
          23.114356994628906,
          23.0240478515625,
          23.53635025024414,
          23.16501808166504,
          24.413543701171875,
          23.554275512695312,
          23.79839324951172,
          24.248903274536133,
          23.963321685791016,
          22.641799926757812,
          23.6131649017334,
          23.54969596862793,
          22.298816680908203,
          23.121183395385742,
          22.455209732055664,
          23.91716194152832,
          23.091323852539062,
          22.902809143066406,
          22.870128631591797,
          22.636474609375,
          24.082658767700195,
          23.26747703552246,
          23.28338050842285,
          22.608259201049805,
          22.929636001586914,
          23.455692291259766,
          24.238977432250977,
          22.79294204711914,
          22.705060958862305,
          22.56510353088379,
          23.348426818847656
         ],
         "yaxis": "y"
        }
       ],
       "layout": {
        "annotations": [
         {
          "font": {
           "size": 16
          },
          "showarrow": false,
          "text": "Custom",
          "x": 0.225,
          "xanchor": "center",
          "xref": "paper",
          "y": 1,
          "yanchor": "bottom",
          "yref": "paper"
         }
        ],
        "height": 800,
        "showlegend": false,
        "template": {
         "data": {
          "bar": [
           {
            "error_x": {
             "color": "#2a3f5f"
            },
            "error_y": {
             "color": "#2a3f5f"
            },
            "marker": {
             "line": {
              "color": "#E5ECF6",
              "width": 0.5
             },
             "pattern": {
              "fillmode": "overlay",
              "size": 10,
              "solidity": 0.2
             }
            },
            "type": "bar"
           }
          ],
          "barpolar": [
           {
            "marker": {
             "line": {
              "color": "#E5ECF6",
              "width": 0.5
             },
             "pattern": {
              "fillmode": "overlay",
              "size": 10,
              "solidity": 0.2
             }
            },
            "type": "barpolar"
           }
          ],
          "carpet": [
           {
            "aaxis": {
             "endlinecolor": "#2a3f5f",
             "gridcolor": "white",
             "linecolor": "white",
             "minorgridcolor": "white",
             "startlinecolor": "#2a3f5f"
            },
            "baxis": {
             "endlinecolor": "#2a3f5f",
             "gridcolor": "white",
             "linecolor": "white",
             "minorgridcolor": "white",
             "startlinecolor": "#2a3f5f"
            },
            "type": "carpet"
           }
          ],
          "choropleth": [
           {
            "colorbar": {
             "outlinewidth": 0,
             "ticks": ""
            },
            "type": "choropleth"
           }
          ],
          "contour": [
           {
            "colorbar": {
             "outlinewidth": 0,
             "ticks": ""
            },
            "colorscale": [
             [
              0,
              "#0d0887"
             ],
             [
              0.1111111111111111,
              "#46039f"
             ],
             [
              0.2222222222222222,
              "#7201a8"
             ],
             [
              0.3333333333333333,
              "#9c179e"
             ],
             [
              0.4444444444444444,
              "#bd3786"
             ],
             [
              0.5555555555555556,
              "#d8576b"
             ],
             [
              0.6666666666666666,
              "#ed7953"
             ],
             [
              0.7777777777777778,
              "#fb9f3a"
             ],
             [
              0.8888888888888888,
              "#fdca26"
             ],
             [
              1,
              "#f0f921"
             ]
            ],
            "type": "contour"
           }
          ],
          "contourcarpet": [
           {
            "colorbar": {
             "outlinewidth": 0,
             "ticks": ""
            },
            "type": "contourcarpet"
           }
          ],
          "heatmap": [
           {
            "colorbar": {
             "outlinewidth": 0,
             "ticks": ""
            },
            "colorscale": [
             [
              0,
              "#0d0887"
             ],
             [
              0.1111111111111111,
              "#46039f"
             ],
             [
              0.2222222222222222,
              "#7201a8"
             ],
             [
              0.3333333333333333,
              "#9c179e"
             ],
             [
              0.4444444444444444,
              "#bd3786"
             ],
             [
              0.5555555555555556,
              "#d8576b"
             ],
             [
              0.6666666666666666,
              "#ed7953"
             ],
             [
              0.7777777777777778,
              "#fb9f3a"
             ],
             [
              0.8888888888888888,
              "#fdca26"
             ],
             [
              1,
              "#f0f921"
             ]
            ],
            "type": "heatmap"
           }
          ],
          "heatmapgl": [
           {
            "colorbar": {
             "outlinewidth": 0,
             "ticks": ""
            },
            "colorscale": [
             [
              0,
              "#0d0887"
             ],
             [
              0.1111111111111111,
              "#46039f"
             ],
             [
              0.2222222222222222,
              "#7201a8"
             ],
             [
              0.3333333333333333,
              "#9c179e"
             ],
             [
              0.4444444444444444,
              "#bd3786"
             ],
             [
              0.5555555555555556,
              "#d8576b"
             ],
             [
              0.6666666666666666,
              "#ed7953"
             ],
             [
              0.7777777777777778,
              "#fb9f3a"
             ],
             [
              0.8888888888888888,
              "#fdca26"
             ],
             [
              1,
              "#f0f921"
             ]
            ],
            "type": "heatmapgl"
           }
          ],
          "histogram": [
           {
            "marker": {
             "pattern": {
              "fillmode": "overlay",
              "size": 10,
              "solidity": 0.2
             }
            },
            "type": "histogram"
           }
          ],
          "histogram2d": [
           {
            "colorbar": {
             "outlinewidth": 0,
             "ticks": ""
            },
            "colorscale": [
             [
              0,
              "#0d0887"
             ],
             [
              0.1111111111111111,
              "#46039f"
             ],
             [
              0.2222222222222222,
              "#7201a8"
             ],
             [
              0.3333333333333333,
              "#9c179e"
             ],
             [
              0.4444444444444444,
              "#bd3786"
             ],
             [
              0.5555555555555556,
              "#d8576b"
             ],
             [
              0.6666666666666666,
              "#ed7953"
             ],
             [
              0.7777777777777778,
              "#fb9f3a"
             ],
             [
              0.8888888888888888,
              "#fdca26"
             ],
             [
              1,
              "#f0f921"
             ]
            ],
            "type": "histogram2d"
           }
          ],
          "histogram2dcontour": [
           {
            "colorbar": {
             "outlinewidth": 0,
             "ticks": ""
            },
            "colorscale": [
             [
              0,
              "#0d0887"
             ],
             [
              0.1111111111111111,
              "#46039f"
             ],
             [
              0.2222222222222222,
              "#7201a8"
             ],
             [
              0.3333333333333333,
              "#9c179e"
             ],
             [
              0.4444444444444444,
              "#bd3786"
             ],
             [
              0.5555555555555556,
              "#d8576b"
             ],
             [
              0.6666666666666666,
              "#ed7953"
             ],
             [
              0.7777777777777778,
              "#fb9f3a"
             ],
             [
              0.8888888888888888,
              "#fdca26"
             ],
             [
              1,
              "#f0f921"
             ]
            ],
            "type": "histogram2dcontour"
           }
          ],
          "mesh3d": [
           {
            "colorbar": {
             "outlinewidth": 0,
             "ticks": ""
            },
            "type": "mesh3d"
           }
          ],
          "parcoords": [
           {
            "line": {
             "colorbar": {
              "outlinewidth": 0,
              "ticks": ""
             }
            },
            "type": "parcoords"
           }
          ],
          "pie": [
           {
            "automargin": true,
            "type": "pie"
           }
          ],
          "scatter": [
           {
            "fillpattern": {
             "fillmode": "overlay",
             "size": 10,
             "solidity": 0.2
            },
            "type": "scatter"
           }
          ],
          "scatter3d": [
           {
            "line": {
             "colorbar": {
              "outlinewidth": 0,
              "ticks": ""
             }
            },
            "marker": {
             "colorbar": {
              "outlinewidth": 0,
              "ticks": ""
             }
            },
            "type": "scatter3d"
           }
          ],
          "scattercarpet": [
           {
            "marker": {
             "colorbar": {
              "outlinewidth": 0,
              "ticks": ""
             }
            },
            "type": "scattercarpet"
           }
          ],
          "scattergeo": [
           {
            "marker": {
             "colorbar": {
              "outlinewidth": 0,
              "ticks": ""
             }
            },
            "type": "scattergeo"
           }
          ],
          "scattergl": [
           {
            "marker": {
             "colorbar": {
              "outlinewidth": 0,
              "ticks": ""
             }
            },
            "type": "scattergl"
           }
          ],
          "scattermapbox": [
           {
            "marker": {
             "colorbar": {
              "outlinewidth": 0,
              "ticks": ""
             }
            },
            "type": "scattermapbox"
           }
          ],
          "scatterpolar": [
           {
            "marker": {
             "colorbar": {
              "outlinewidth": 0,
              "ticks": ""
             }
            },
            "type": "scatterpolar"
           }
          ],
          "scatterpolargl": [
           {
            "marker": {
             "colorbar": {
              "outlinewidth": 0,
              "ticks": ""
             }
            },
            "type": "scatterpolargl"
           }
          ],
          "scatterternary": [
           {
            "marker": {
             "colorbar": {
              "outlinewidth": 0,
              "ticks": ""
             }
            },
            "type": "scatterternary"
           }
          ],
          "surface": [
           {
            "colorbar": {
             "outlinewidth": 0,
             "ticks": ""
            },
            "colorscale": [
             [
              0,
              "#0d0887"
             ],
             [
              0.1111111111111111,
              "#46039f"
             ],
             [
              0.2222222222222222,
              "#7201a8"
             ],
             [
              0.3333333333333333,
              "#9c179e"
             ],
             [
              0.4444444444444444,
              "#bd3786"
             ],
             [
              0.5555555555555556,
              "#d8576b"
             ],
             [
              0.6666666666666666,
              "#ed7953"
             ],
             [
              0.7777777777777778,
              "#fb9f3a"
             ],
             [
              0.8888888888888888,
              "#fdca26"
             ],
             [
              1,
              "#f0f921"
             ]
            ],
            "type": "surface"
           }
          ],
          "table": [
           {
            "cells": {
             "fill": {
              "color": "#EBF0F8"
             },
             "line": {
              "color": "white"
             }
            },
            "header": {
             "fill": {
              "color": "#C8D4E3"
             },
             "line": {
              "color": "white"
             }
            },
            "type": "table"
           }
          ]
         },
         "layout": {
          "annotationdefaults": {
           "arrowcolor": "#2a3f5f",
           "arrowhead": 0,
           "arrowwidth": 1
          },
          "autotypenumbers": "strict",
          "coloraxis": {
           "colorbar": {
            "outlinewidth": 0,
            "ticks": ""
           }
          },
          "colorscale": {
           "diverging": [
            [
             0,
             "#8e0152"
            ],
            [
             0.1,
             "#c51b7d"
            ],
            [
             0.2,
             "#de77ae"
            ],
            [
             0.3,
             "#f1b6da"
            ],
            [
             0.4,
             "#fde0ef"
            ],
            [
             0.5,
             "#f7f7f7"
            ],
            [
             0.6,
             "#e6f5d0"
            ],
            [
             0.7,
             "#b8e186"
            ],
            [
             0.8,
             "#7fbc41"
            ],
            [
             0.9,
             "#4d9221"
            ],
            [
             1,
             "#276419"
            ]
           ],
           "sequential": [
            [
             0,
             "#0d0887"
            ],
            [
             0.1111111111111111,
             "#46039f"
            ],
            [
             0.2222222222222222,
             "#7201a8"
            ],
            [
             0.3333333333333333,
             "#9c179e"
            ],
            [
             0.4444444444444444,
             "#bd3786"
            ],
            [
             0.5555555555555556,
             "#d8576b"
            ],
            [
             0.6666666666666666,
             "#ed7953"
            ],
            [
             0.7777777777777778,
             "#fb9f3a"
            ],
            [
             0.8888888888888888,
             "#fdca26"
            ],
            [
             1,
             "#f0f921"
            ]
           ],
           "sequentialminus": [
            [
             0,
             "#0d0887"
            ],
            [
             0.1111111111111111,
             "#46039f"
            ],
            [
             0.2222222222222222,
             "#7201a8"
            ],
            [
             0.3333333333333333,
             "#9c179e"
            ],
            [
             0.4444444444444444,
             "#bd3786"
            ],
            [
             0.5555555555555556,
             "#d8576b"
            ],
            [
             0.6666666666666666,
             "#ed7953"
            ],
            [
             0.7777777777777778,
             "#fb9f3a"
            ],
            [
             0.8888888888888888,
             "#fdca26"
            ],
            [
             1,
             "#f0f921"
            ]
           ]
          },
          "colorway": [
           "#636efa",
           "#EF553B",
           "#00cc96",
           "#ab63fa",
           "#FFA15A",
           "#19d3f3",
           "#FF6692",
           "#B6E880",
           "#FF97FF",
           "#FECB52"
          ],
          "font": {
           "color": "#2a3f5f"
          },
          "geo": {
           "bgcolor": "white",
           "lakecolor": "white",
           "landcolor": "#E5ECF6",
           "showlakes": true,
           "showland": true,
           "subunitcolor": "white"
          },
          "hoverlabel": {
           "align": "left"
          },
          "hovermode": "closest",
          "mapbox": {
           "style": "light"
          },
          "paper_bgcolor": "white",
          "plot_bgcolor": "#E5ECF6",
          "polar": {
           "angularaxis": {
            "gridcolor": "white",
            "linecolor": "white",
            "ticks": ""
           },
           "bgcolor": "#E5ECF6",
           "radialaxis": {
            "gridcolor": "white",
            "linecolor": "white",
            "ticks": ""
           }
          },
          "scene": {
           "xaxis": {
            "backgroundcolor": "#E5ECF6",
            "gridcolor": "white",
            "gridwidth": 2,
            "linecolor": "white",
            "showbackground": true,
            "ticks": "",
            "zerolinecolor": "white"
           },
           "yaxis": {
            "backgroundcolor": "#E5ECF6",
            "gridcolor": "white",
            "gridwidth": 2,
            "linecolor": "white",
            "showbackground": true,
            "ticks": "",
            "zerolinecolor": "white"
           },
           "zaxis": {
            "backgroundcolor": "#E5ECF6",
            "gridcolor": "white",
            "gridwidth": 2,
            "linecolor": "white",
            "showbackground": true,
            "ticks": "",
            "zerolinecolor": "white"
           }
          },
          "shapedefaults": {
           "line": {
            "color": "#2a3f5f"
           }
          },
          "ternary": {
           "aaxis": {
            "gridcolor": "white",
            "linecolor": "white",
            "ticks": ""
           },
           "baxis": {
            "gridcolor": "white",
            "linecolor": "white",
            "ticks": ""
           },
           "bgcolor": "#E5ECF6",
           "caxis": {
            "gridcolor": "white",
            "linecolor": "white",
            "ticks": ""
           }
          },
          "title": {
           "x": 0.05
          },
          "xaxis": {
           "automargin": true,
           "gridcolor": "white",
           "linecolor": "white",
           "ticks": "",
           "title": {
            "standoff": 15
           },
           "zerolinecolor": "white",
           "zerolinewidth": 2
          },
          "yaxis": {
           "automargin": true,
           "gridcolor": "white",
           "linecolor": "white",
           "ticks": "",
           "title": {
            "standoff": 15
           },
           "zerolinecolor": "white",
           "zerolinewidth": 2
          }
         }
        },
        "title": {
         "text": "Interactive Word Embeddings Visualization (UMAP)"
        },
        "xaxis": {
         "anchor": "y",
         "domain": [
          0,
          0.45
         ]
        },
        "xaxis2": {
         "anchor": "y2",
         "domain": [
          0.55,
          1
         ]
        },
        "xaxis3": {
         "anchor": "y3",
         "domain": [
          0,
          0.45
         ]
        },
        "xaxis4": {
         "anchor": "y4",
         "domain": [
          0.55,
          1
         ]
        },
        "yaxis": {
         "anchor": "x",
         "domain": [
          0.625,
          1
         ]
        },
        "yaxis2": {
         "anchor": "x2",
         "domain": [
          0.625,
          1
         ]
        },
        "yaxis3": {
         "anchor": "x3",
         "domain": [
          0,
          0.375
         ]
        },
        "yaxis4": {
         "anchor": "x4",
         "domain": [
          0,
          0.375
         ]
        }
       }
      }
     },
     "metadata": {},
     "output_type": "display_data"
    }
   ],
   "source": [
    "class EmbeddingVisualizer:\n",
    "    def __init__(self, custom_loader, pretrained_models):\n",
    "        self.custom_loader = custom_loader\n",
    "        self.pretrained_models = pretrained_models\n",
    "        \n",
    "    def prepare_visualization_data(self, words, max_words=100):\n",
    "        \"\"\"Prepare embedding data for visualization\"\"\"\n",
    "        viz_data = {}\n",
    "        \n",
    "        # Limit words for visualization\n",
    "        words = words[:max_words]\n",
    "        \n",
    "        # Custom embeddings\n",
    "        custom_vectors = []\n",
    "        custom_words = []\n",
    "        for word in words:\n",
    "            vec = self.custom_loader.get_vector(word)\n",
    "            if vec is not None:\n",
    "                custom_vectors.append(vec)\n",
    "                custom_words.append(word)\n",
    "        \n",
    "        if custom_vectors:\n",
    "            viz_data['custom'] = {\n",
    "                'vectors': np.array(custom_vectors),\n",
    "                'words': custom_words\n",
    "            }\n",
    "        \n",
    "        # Pre-trained models\n",
    "        for model_name, model in self.pretrained_models.items():\n",
    "            if model:\n",
    "                model_vectors = []\n",
    "                model_words = []\n",
    "                for word in words:\n",
    "                    if word in model:\n",
    "                        model_vectors.append(model[word])\n",
    "                        model_words.append(word)\n",
    "                \n",
    "                if model_vectors:\n",
    "                    viz_data[model_name] = {\n",
    "                        'vectors': np.array(model_vectors),\n",
    "                        'words': model_words\n",
    "                    }\n",
    "        \n",
    "        return viz_data\n",
    "    \n",
    "    def create_tsne_visualization(self, viz_data, perplexity=30):\n",
    "        \"\"\"Create t-SNE visualization for all models\"\"\"\n",
    "        fig, axes = plt.subplots(2, 2, figsize=(16, 12))\n",
    "        axes = axes.flatten()\n",
    "        \n",
    "        model_names = list(viz_data.keys())\n",
    "        colors = plt.cm.Set3(np.linspace(0, 1, len(model_names)))\n",
    "        \n",
    "        for idx, (model_name, data) in enumerate(viz_data.items()):\n",
    "            if idx >= 4:  # Limit to 4 subplots\n",
    "                break\n",
    "                \n",
    "            vectors = data['vectors']\n",
    "            words = data['words']\n",
    "            \n",
    "            # Apply t-SNE\n",
    "            tsne = TSNE(n_components=2, perplexity=min(perplexity, len(vectors)-1), random_state=42, max_iter=1000)\n",
    "\n",
    "            vectors_2d = tsne.fit_transform(vectors)\n",
    "            \n",
    "            # Plot\n",
    "            ax = axes[idx]\n",
    "            scatter = ax.scatter(vectors_2d[:, 0], vectors_2d[:, 1], \n",
    "                               c=[colors[idx]], alpha=0.7, s=50)\n",
    "            \n",
    "            # Add word labels for a subset\n",
    "            for i, word in enumerate(words[:20]):  # Show labels for first 20 words\n",
    "                ax.annotate(word, (vectors_2d[i, 0], vectors_2d[i, 1]), \n",
    "                           xytext=(5, 5), textcoords='offset points', \n",
    "                           fontsize=8, alpha=0.8)\n",
    "            \n",
    "            ax.set_title(f't-SNE: {model_name.title()} Embeddings')\n",
    "            ax.set_xlabel('t-SNE 1')\n",
    "            ax.set_ylabel('t-SNE 2')\n",
    "            ax.grid(True, alpha=0.3)\n",
    "        \n",
    "        # Hide unused subplots\n",
    "        for idx in range(len(viz_data), 4):\n",
    "            axes[idx].set_visible(False)\n",
    "        \n",
    "        plt.tight_layout()\n",
    "        plt.suptitle('Word Embeddings Visualization (t-SNE)', y=1.02, fontsize=16)\n",
    "        plt.show()\n",
    "    \n",
    "    def create_interactive_visualization(self, viz_data):\n",
    "        \"\"\"Create interactive visualization using Plotly\"\"\"\n",
    "        fig = make_subplots(\n",
    "            rows=2, cols=2,\n",
    "            subplot_titles=[name.title() for name in list(viz_data.keys())[:4]],\n",
    "            specs=[[{\"type\": \"scatter\"}, {\"type\": \"scatter\"}],\n",
    "                   [{\"type\": \"scatter\"}, {\"type\": \"scatter\"}]]\n",
    "        )\n",
    "        \n",
    "        positions = [(1, 1), (1, 2), (2, 1), (2, 2)]\n",
    "        \n",
    "        for idx, (model_name, data) in enumerate(viz_data.items()):\n",
    "            if idx >= 4:\n",
    "                break\n",
    "                \n",
    "            vectors = data['vectors']\n",
    "            words = data['words']\n",
    "            \n",
    "            # Apply UMAP for better interactive visualization\n",
    "            reducer = umap.UMAP(n_components=2, random_state=42, n_neighbors=15)\n",
    "            vectors_2d = reducer.fit_transform(vectors)\n",
    "            \n",
    "            row, col = positions[idx]\n",
    "            \n",
    "            fig.add_trace(\n",
    "                go.Scatter(\n",
    "                    x=vectors_2d[:, 0],\n",
    "                    y=vectors_2d[:, 1],\n",
    "                    mode='markers+text',\n",
    "                    text=words,\n",
    "                    textposition='top center',\n",
    "                    marker=dict(size=8, opacity=0.7),\n",
    "                    name=model_name.title(),\n",
    "                    hovertemplate='<b>%{text}</b><br>X: %{x:.2f}<br>Y: %{y:.2f}<extra></extra>'\n",
    "                ),\n",
    "                row=row, col=col\n",
    "            )\n",
    "        \n",
    "        fig.update_layout(\n",
    "            title_text=\"Interactive Word Embeddings Visualization (UMAP)\",\n",
    "            height=800,\n",
    "            showlegend=False\n",
    "        )\n",
    "        \n",
    "        fig.show()\n",
    "\n",
    "# Create visualizations\n",
    "if 'custom_loader' in locals():\n",
    "    visualizer = EmbeddingVisualizer(custom_loader, pretrained_models)\n",
    "    \n",
    "    # Use a subset of vocabulary for visualization\n",
    "    viz_words = custom_loader.vocab[:200] if hasattr(custom_loader, 'vocab') else test_words\n",
    "    \n",
    "    print(\"🎨 Preparing visualization data...\")\n",
    "    viz_data = visualizer.prepare_visualization_data(viz_words)\n",
    "    \n",
    "    print(\"📊 Creating t-SNE visualization...\")\n",
    "    visualizer.create_tsne_visualization(viz_data)\n",
    "    \n",
    "    print(\"🌐 Creating interactive visualization...\")\n",
    "    visualizer.create_interactive_visualization(viz_data)\n",
    "else:\n",
    "    print(\"⚠️ Custom embeddings not loaded. Please check the file path above.\")"
   ]
  },
  {
   "cell_type": "markdown",
   "metadata": {},
   "source": [
    "## 5. Analogy Evaluation"
   ]
  },
  {
   "cell_type": "code",
   "execution_count": 8,
   "metadata": {},
   "outputs": [
    {
     "name": "stdout",
     "output_type": "stream",
     "text": [
      "🧩 Evaluating analogies...\n",
      "📊 Calculating analogy accuracy...\n",
      "\n",
      "🎯 Analogy Evaluation Results:\n",
      "==================================================\n",
      "\n",
      "❓ man:king :: woman:? (Expected: queen)\n",
      "  word2vec    : queen\n",
      "  glove       : queen\n",
      "  fasttext    : queen\n",
      "\n",
      "❓ paris:france :: london:? (Expected: england)\n",
      "  word2vec    : england\n",
      "  glove       : britain\n",
      "  fasttext    : england\n",
      "\n",
      "❓ big:bigger :: small:? (Expected: smaller)\n",
      "  word2vec    : larger\n",
      "  glove       : larger\n",
      "  fasttext    : smaller\n",
      "\n",
      "📈 Accuracy Scores:\n",
      "==============================\n",
      "word2vec    : 100.00% (8/8)\n",
      "glove       : 100.00% (8/8)\n",
      "fasttext    : 100.00% (8/8)\n"
     ]
    }
   ],
   "source": [
    "class AnalogyEvaluator:\n",
    "    def __init__(self, custom_loader, pretrained_models):\n",
    "        self.custom_loader = custom_loader\n",
    "        self.pretrained_models = pretrained_models\n",
    "        \n",
    "    def solve_analogy_custom(self, word_a, word_b, word_c, topn=5):\n",
    "        \"\"\"Solve analogy A:B :: C:? using custom embeddings\"\"\"\n",
    "        vec_a = self.custom_loader.get_vector(word_a)\n",
    "        vec_b = self.custom_loader.get_vector(word_b)\n",
    "        vec_c = self.custom_loader.get_vector(word_c)\n",
    "        \n",
    "        if any(v is None for v in [vec_a, vec_b, vec_c]):\n",
    "            return []\n",
    "        \n",
    "        # Compute analogy vector: B - A + C\n",
    "        analogy_vec = vec_b - vec_a + vec_c\n",
    "        \n",
    "        # Find most similar words to analogy vector\n",
    "        similarities = cosine_similarity([analogy_vec], self.custom_loader.embeddings)[0]\n",
    "        \n",
    "        # Get top similar words (excluding input words)\n",
    "        exclude_indices = set()\n",
    "        for word in [word_a, word_b, word_c]:\n",
    "            if word in self.custom_loader.word_to_idx:\n",
    "                exclude_indices.add(self.custom_loader.word_to_idx[word])\n",
    "        \n",
    "        similar_indices = np.argsort(similarities)[::-1]\n",
    "        results = []\n",
    "        \n",
    "        for idx in similar_indices:\n",
    "            if idx not in exclude_indices and len(results) < topn:\n",
    "                results.append((self.custom_loader.vocab[idx], similarities[idx]))\n",
    "        \n",
    "        return results\n",
    "    \n",
    "    def evaluate_analogies(self, analogy_questions):\n",
    "        \"\"\"Evaluate analogies across all models\"\"\"\n",
    "        results = []\n",
    "        \n",
    "        for question in analogy_questions:\n",
    "            word_a, word_b, word_c, expected = question\n",
    "            question_result = {\n",
    "                'question': f\"{word_a}:{word_b} :: {word_c}:?\",\n",
    "                'expected': expected\n",
    "            }\n",
    "            \n",
    "            # Custom embeddings\n",
    "            custom_results = self.solve_analogy_custom(word_a, word_b, word_c)\n",
    "            question_result['custom'] = custom_results\n",
    "            \n",
    "            # Pre-trained models\n",
    "            for model_name, model in self.pretrained_models.items():\n",
    "                if model:\n",
    "                    try:\n",
    "                        # Check if all words exist in model\n",
    "                        if all(word in model for word in [word_a, word_b, word_c]):\n",
    "                            model_results = model.most_similar(\n",
    "                                positive=[word_b, word_c], \n",
    "                                negative=[word_a], \n",
    "                                topn=5\n",
    "                            )\n",
    "                            question_result[model_name] = model_results\n",
    "                        else:\n",
    "                            question_result[model_name] = []\n",
    "                    except Exception as e:\n",
    "                        question_result[model_name] = []\n",
    "                else:\n",
    "                    question_result[model_name] = []\n",
    "            \n",
    "            results.append(question_result)\n",
    "        \n",
    "        return results\n",
    "    \n",
    "    def calculate_analogy_accuracy(self, analogy_results):\n",
    "        \"\"\"Calculate accuracy for analogy tasks\"\"\"\n",
    "        accuracy_scores = {}\n",
    "        \n",
    "        # Initialize scores for each model\n",
    "        model_names = ['custom'] + list(self.pretrained_models.keys())\n",
    "        for model_name in model_names:\n",
    "            accuracy_scores[model_name] = {'correct': 0, 'total': 0, 'accuracy': 0.0}\n",
    "        \n",
    "        for result in analogy_results:\n",
    "            expected = result['expected'].lower()\n",
    "            \n",
    "            for model_name in model_names:\n",
    "                if model_name in result and result[model_name]:\n",
    "                    # Check if expected answer is in top predictions\n",
    "                    predictions = [pred[0].lower() for pred in result[model_name]]\n",
    "                    if expected in predictions:\n",
    "                        accuracy_scores[model_name]['correct'] += 1\n",
    "                    accuracy_scores[model_name]['total'] += 1\n",
    "        \n",
    "        # Calculate accuracy percentages\n",
    "        for model_name in accuracy_scores:\n",
    "            if accuracy_scores[model_name]['total'] > 0:\n",
    "                accuracy = accuracy_scores[model_name]['correct'] / accuracy_scores[model_name]['total']\n",
    "                accuracy_scores[model_name]['accuracy'] = accuracy\n",
    "        \n",
    "        return accuracy_scores\n",
    "\n",
    "# Define analogy questions\n",
    "analogy_questions = [\n",
    "    ('man', 'king', 'woman', 'queen'),\n",
    "    ('paris', 'france', 'london', 'england'),\n",
    "    ('big', 'bigger', 'small', 'smaller'),\n",
    "    ('good', 'better', 'bad', 'worse'),\n",
    "    ('walk', 'walking', 'swim', 'swimming'),\n",
    "    ('cat', 'cats', 'dog', 'dogs'),\n",
    "    ('he', 'his', 'she', 'her'),\n",
    "    ('uncle', 'aunt', 'brother', 'sister')\n",
    "]\n",
    "\n",
    "# Run analogy evaluation\n",
    "if 'custom_loader' in locals():\n",
    "    analogy_evaluator = AnalogyEvaluator(custom_loader, pretrained_models)\n",
    "    \n",
    "    print(\"🧩 Evaluating analogies...\")\n",
    "    analogy_results = analogy_evaluator.evaluate_analogies(analogy_questions)\n",
    "    \n",
    "    print(\"📊 Calculating analogy accuracy...\")\n",
    "    accuracy_scores = analogy_evaluator.calculate_analogy_accuracy(analogy_results)\n",
    "    \n",
    "    # Display results\n",
    "    print(\"\\n🎯 Analogy Evaluation Results:\")\n",
    "    print(\"=\" * 50)\n",
    "    \n",
    "    for result in analogy_results[:3]:  # Show first 3 examples\n",
    "        print(f\"\\n❓ {result['question']} (Expected: {result['expected']})\")\n",
    "        for model_name in ['custom', 'word2vec', 'glove', 'fasttext']:\n",
    "            if model_name in result and result[model_name]:\n",
    "                top_answer = result[model_name][0][0] if result[model_name] else 'N/A'\n",
    "                print(f\"  {model_name:12}: {top_answer}\")\n",
    "    \n",
    "    print(\"\\n📈 Accuracy Scores:\")\n",
    "    print(\"=\" * 30)\n",
    "    for model_name, scores in accuracy_scores.items():\n",
    "        if scores['total'] > 0:\n",
    "            print(f\"{model_name:12}: {scores['accuracy']:.2%} ({scores['correct']}/{scores['total']})\")\n",
    "else:\n",
    "    print(\"⚠️ Custom embeddings not loaded. Please check the file path above.\")"
   ]
  },
  {
   "cell_type": "markdown",
   "metadata": {},
   "source": [
    "## 6. Top-K Word Predictions and Semantic Coherence"
   ]
  },
  {
   "cell_type": "code",
   "execution_count": 9,
   "metadata": {},
   "outputs": [
    {
     "name": "stdout",
     "output_type": "stream",
     "text": [
      "🔍 Evaluating semantic categories...\n",
      "\n",
      "📊 Semantic Coherence Results:\n",
      "==================================================\n",
      "\n",
      "📂 Category: Animals\n",
      "  custom      : 0.000 (0 words)\n",
      "  word2vec    : 0.441 (8 words)\n",
      "  glove       : 0.387 (8 words)\n",
      "  fasttext    : 0.540 (8 words)\n",
      "\n",
      "📂 Category: Colors\n",
      "  custom      : 0.000 (0 words)\n",
      "  word2vec    : 0.564 (8 words)\n",
      "  glove       : 0.541 (8 words)\n",
      "  fasttext    : 0.776 (8 words)\n",
      "\n",
      "📂 Category: Countries\n",
      "  custom      : 0.000 (0 words)\n",
      "  word2vec    : 0.505 (8 words)\n",
      "  glove       : 0.367 (8 words)\n",
      "  fasttext    : 0.578 (8 words)\n",
      "\n",
      "📂 Category: Emotions\n",
      "  custom      : 0.000 (0 words)\n",
      "  word2vec    : 0.354 (8 words)\n",
      "  glove       : 0.389 (8 words)\n",
      "  fasttext    : 0.540 (8 words)\n",
      "\n",
      "📂 Category: Food\n",
      "  custom      : 0.000 (0 words)\n",
      "  word2vec    : 0.408 (8 words)\n",
      "  glove       : 0.404 (8 words)\n",
      "  fasttext    : 0.500 (8 words)\n",
      "\n",
      "🏆 Overall Semantic Coherence:\n",
      "===================================\n",
      "custom      : 0.000\n",
      "word2vec    : 0.455\n",
      "glove       : 0.418\n",
      "fasttext    : 0.587\n"
     ]
    }
   ],
   "source": [
    "class SemanticEvaluator:\n",
    "    def __init__(self, custom_loader, pretrained_models):\n",
    "        self.custom_loader = custom_loader\n",
    "        self.pretrained_models = pretrained_models\n",
    "        \n",
    "    def evaluate_semantic_categories(self, categories):\n",
    "        \"\"\"Evaluate how well models group semantically related words\"\"\"\n",
    "        results = {}\n",
    "        \n",
    "        for category_name, words in categories.items():\n",
    "            category_results = {'category': category_name, 'words': words}\n",
    "            \n",
    "            # Custom embeddings\n",
    "            custom_coherence = self.calculate_category_coherence_custom(words)\n",
    "            category_results['custom'] = custom_coherence\n",
    "            \n",
    "            # Pre-trained models\n",
    "            for model_name, model in self.pretrained_models.items():\n",
    "                if model:\n",
    "                    coherence = self.calculate_category_coherence_pretrained(words, model)\n",
    "                    category_results[model_name] = coherence\n",
    "                else:\n",
    "                    category_results[model_name] = None\n",
    "            \n",
    "            results[category_name] = category_results\n",
    "        \n",
    "        return results\n",
    "    \n",
    "    def calculate_category_coherence_custom(self, words):\n",
    "        \"\"\"Calculate semantic coherence for custom embeddings\"\"\"\n",
    "        vectors = []\n",
    "        valid_words = []\n",
    "        \n",
    "        for word in words:\n",
    "            vec = self.custom_loader.get_vector(word)\n",
    "            if vec is not None:\n",
    "                vectors.append(vec)\n",
    "                valid_words.append(word)\n",
    "        \n",
    "        if len(vectors) < 2:\n",
    "            return {'coherence': 0.0, 'valid_words': valid_words}\n",
    "        \n",
    "        # Calculate pairwise similarities\n",
    "        similarities = cosine_similarity(vectors)\n",
    "        \n",
    "        # Get upper triangle (excluding diagonal)\n",
    "        upper_triangle = similarities[np.triu_indices_from(similarities, k=1)]\n",
    "        avg_similarity = np.mean(upper_triangle)\n",
    "        \n",
    "        return {\n",
    "            'coherence': avg_similarity,\n",
    "            'valid_words': valid_words,\n",
    "            'num_pairs': len(upper_triangle)\n",
    "        }\n",
    "    \n",
    "    def calculate_category_coherence_pretrained(self, words, model):\n",
    "        \"\"\"Calculate semantic coherence for pre-trained models\"\"\"\n",
    "        valid_words = [word for word in words if word in model]\n",
    "        \n",
    "        if len(valid_words) < 2:\n",
    "            return {'coherence': 0.0, 'valid_words': valid_words}\n",
    "        \n",
    "        similarities = []\n",
    "        for i in range(len(valid_words)):\n",
    "            for j in range(i + 1, len(valid_words)):\n",
    "                try:\n",
    "                    sim = model.similarity(valid_words[i], valid_words[j])\n",
    "                    similarities.append(sim)\n",
    "                except:\n",
    "                    continue\n",
    "        \n",
    "        avg_similarity = np.mean(similarities) if similarities else 0.0\n",
    "        \n",
    "        return {\n",
    "            'coherence': avg_similarity,\n",
    "            'valid_words': valid_words,\n",
    "            'num_pairs': len(similarities)\n",
    "        }\n",
    "    \n",
    "    def find_outliers_in_category(self, words, model_name=None):\n",
    "        \"\"\"Find words that don't fit well in a semantic category\"\"\"\n",
    "        if model_name == 'custom' or model_name is None:\n",
    "            vectors = []\n",
    "            valid_words = []\n",
    "            \n",
    "            for word in words:\n",
    "                vec = self.custom_loader.get_vector(word)\n",
    "                if vec is not None:\n",
    "                    vectors.append(vec)\n",
    "                    valid_words.append(word)\n",
    "            \n",
    "            if len(vectors) < 3:\n",
    "                return []\n",
    "            \n",
    "            # Calculate each word's average similarity to others\n",
    "            avg_similarities = []\n",
    "            for i, word in enumerate(valid_words):\n",
    "                similarities = cosine_similarity([vectors[i]], vectors)[0]\n",
    "                # Exclude self-similarity\n",
    "                other_similarities = np.concatenate([similarities[:i], similarities[i+1:]])\n",
    "                avg_sim = np.mean(other_similarities)\n",
    "                avg_similarities.append((word, avg_sim))\n",
    "            \n",
    "            # Sort by similarity (lowest first = outliers)\n",
    "            avg_similarities.sort(key=lambda x: x[1])\n",
    "            return avg_similarities\n",
    "        \n",
    "        else:\n",
    "            model = self.pretrained_models.get(model_name)\n",
    "            if not model:\n",
    "                return []\n",
    "            \n",
    "            valid_words = [word for word in words if word in model]\n",
    "            if len(valid_words) < 3:\n",
    "                return []\n",
    "            \n",
    "            avg_similarities = []\n",
    "            for word in valid_words:\n",
    "                similarities = []\n",
    "                for other_word in valid_words:\n",
    "                    if word != other_word:\n",
    "                        try:\n",
    "                            sim = model.similarity(word, other_word)\n",
    "                            similarities.append(sim)\n",
    "                        except:\n",
    "                            continue\n",
    "                \n",
    "                if similarities:\n",
    "                    avg_sim = np.mean(similarities)\n",
    "                    avg_similarities.append((word, avg_sim))\n",
    "            \n",
    "            avg_similarities.sort(key=lambda x: x[1])\n",
    "            return avg_similarities\n",
    "\n",
    "# Define semantic categories for evaluation\n",
    "semantic_categories = {\n",
    "    'animals': ['cat', 'dog', 'horse', 'cow', 'pig', 'sheep', 'lion', 'tiger'],\n",
    "    'colors': ['red', 'blue', 'green', 'yellow', 'black', 'white', 'purple', 'orange'],\n",
    "    'countries': ['usa', 'france', 'germany', 'japan', 'china', 'india', 'brazil', 'canada'],\n",
    "    'emotions': ['happy', 'sad', 'angry', 'excited', 'calm', 'nervous', 'proud', 'ashamed'],\n",
    "    'food': ['apple', 'bread', 'cheese', 'meat', 'rice', 'pasta', 'pizza', 'cake']\n",
    "}\n",
    "\n",
    "# Run semantic evaluation\n",
    "if 'custom_loader' in locals():\n",
    "    semantic_evaluator = SemanticEvaluator(custom_loader, pretrained_models)\n",
    "    \n",
    "    print(\"🔍 Evaluating semantic categories...\")\n",
    "    semantic_results = semantic_evaluator.evaluate_semantic_categories(semantic_categories)\n",
    "    \n",
    "    # Display results\n",
    "    print(\"\\n📊 Semantic Coherence Results:\")\n",
    "    print(\"=\" * 50)\n",
    "    \n",
    "    coherence_summary = {}\n",
    "    for category_name, results in semantic_results.items():\n",
    "        print(f\"\\n📂 Category: {category_name.title()}\")\n",
    "        for model_name in ['custom', 'word2vec', 'glove', 'fasttext']:\n",
    "            if model_name in results and results[model_name]:\n",
    "                coherence = results[model_name]['coherence']\n",
    "                valid_count = len(results[model_name]['valid_words'])\n",
    "                print(f\"  {model_name:12}: {coherence:.3f} ({valid_count} words)\")\n",
    "                \n",
    "                if model_name not in coherence_summary:\n",
    "                    coherence_summary[model_name] = []\n",
    "                coherence_summary[model_name].append(coherence)\n",
    "    \n",
    "    # Overall coherence scores\n",
    "    print(\"\\n🏆 Overall Semantic Coherence:\")\n",
    "    print(\"=\" * 35)\n",
    "    for model_name, scores in coherence_summary.items():\n",
    "        avg_coherence = np.mean(scores)\n",
    "        print(f\"{model_name:12}: {avg_coherence:.3f}\")\n",
    "else:\n",
    "    print(\"⚠️ Custom embeddings not loaded. Please check the file path above.\")"
   ]
  },
  {
   "cell_type": "markdown",
   "metadata": {},
   "source": [
    "## 7. Comprehensive Evaluation Summary"
   ]
  },
  {
   "cell_type": "code",
   "execution_count": 10,
   "metadata": {},
   "outputs": [
    {
     "name": "stdout",
     "output_type": "stream",
     "text": [
      "📊 Creating comprehensive evaluation dashboard...\n"
     ]
    },
    {
     "name": "stderr",
     "output_type": "stream",
     "text": [
      "/opt/anaconda3/envs/gpu/lib/python3.11/site-packages/IPython/core/pylabtools.py:152: MatplotlibDeprecationWarning:\n",
      "\n",
      "savefig() got unexpected keyword argument \"orientation\" which is no longer supported as of 3.3 and will become an error two minor releases later\n",
      "\n",
      "/opt/anaconda3/envs/gpu/lib/python3.11/site-packages/IPython/core/pylabtools.py:152: MatplotlibDeprecationWarning:\n",
      "\n",
      "savefig() got unexpected keyword argument \"dpi\" which is no longer supported as of 3.3 and will become an error two minor releases later\n",
      "\n",
      "/opt/anaconda3/envs/gpu/lib/python3.11/site-packages/IPython/core/pylabtools.py:152: MatplotlibDeprecationWarning:\n",
      "\n",
      "savefig() got unexpected keyword argument \"facecolor\" which is no longer supported as of 3.3 and will become an error two minor releases later\n",
      "\n",
      "/opt/anaconda3/envs/gpu/lib/python3.11/site-packages/IPython/core/pylabtools.py:152: MatplotlibDeprecationWarning:\n",
      "\n",
      "savefig() got unexpected keyword argument \"edgecolor\" which is no longer supported as of 3.3 and will become an error two minor releases later\n",
      "\n",
      "/opt/anaconda3/envs/gpu/lib/python3.11/site-packages/IPython/core/pylabtools.py:152: MatplotlibDeprecationWarning:\n",
      "\n",
      "savefig() got unexpected keyword argument \"bbox_inches_restore\" which is no longer supported as of 3.3 and will become an error two minor releases later\n",
      "\n"
     ]
    },
    {
     "data": {
      "image/png": "[encoded data removed]",
      "text/plain": [
       "<Figure size 1600x1200 with 4 Axes>"
      ]
     },
     "metadata": {},
     "output_type": "display_data"
    },
    {
     "name": "stdout",
     "output_type": "stream",
     "text": [
      "\n",
      "============================================================\n",
      "📊 COMPREHENSIVE WORD EMBEDDINGS EVALUATION REPORT\n",
      "============================================================\n",
      "\n",
      "🏆 FINAL RANKINGS:\n",
      "------------------------------\n",
      "🥇 1. FASTTEXT     - Score: 0.793\n",
      "🥈 2. WORD2VEC     - Score: 0.727\n",
      "🥉 3. GLOVE        - Score: 0.709\n",
      "📍 4. CUSTOM       - Score: 0.000\n",
      "\n",
      "📈 DETAILED METRICS:\n",
      "----------------------------------------\n",
      "\n",
      "🧩 Analogy Task Performance:\n",
      "  word2vec    : 100.00% (8/8)\n",
      "  glove       : 100.00% (8/8)\n",
      "  fasttext    : 100.00% (8/8)\n",
      "\n",
      "🎯 Semantic Coherence by Category:\n",
      "\n",
      "  📂 Animals:\n",
      "    custom      : 0.000\n",
      "    word2vec    : 0.441\n",
      "    glove       : 0.387\n",
      "    fasttext    : 0.540\n",
      "\n",
      "  📂 Colors:\n",
      "    custom      : 0.000\n",
      "    word2vec    : 0.564\n",
      "    glove       : 0.541\n",
      "    fasttext    : 0.776\n",
      "\n",
      "  📂 Countries:\n",
      "    custom      : 0.000\n",
      "    word2vec    : 0.505\n",
      "    glove       : 0.367\n",
      "    fasttext    : 0.578\n",
      "\n",
      "  📂 Emotions:\n",
      "    custom      : 0.000\n",
      "    word2vec    : 0.354\n",
      "    glove       : 0.389\n",
      "    fasttext    : 0.540\n",
      "\n",
      "  📂 Food:\n",
      "    custom      : 0.000\n",
      "    word2vec    : 0.408\n",
      "    glove       : 0.404\n",
      "    fasttext    : 0.500\n",
      "\n",
      "💡 RECOMMENDATIONS:\n",
      "-------------------------\n",
      "📊 Fasttext performs best overall.\n",
      "   Your custom embeddings may benefit from:\n",
      "   • More training data\n",
      "   • Different training parameters\n",
      "   • Domain-specific fine-tuning\n",
      "\n",
      "🔍 ANALYSIS INSIGHTS:\n",
      "-------------------------\n",
      "• Analogy tasks test logical relationships\n",
      "• Semantic coherence measures category consistency\n",
      "• Consider your specific use case when choosing embeddings\n",
      "• Domain-specific embeddings may outperform general ones\n",
      "\n",
      "============================================================\n",
      "📋 EVALUATION COMPLETE\n",
      "============================================================\n"
     ]
    }
   ],
   "source": [
    "class ComprehensiveEvaluator:\n",
    "    def __init__(self, similarity_results, analogy_accuracy, semantic_coherence):\n",
    "        self.similarity_results = similarity_results\n",
    "        self.analogy_accuracy = analogy_accuracy\n",
    "        self.semantic_coherence = semantic_coherence\n",
    "        \n",
    "    def create_evaluation_dashboard(self):\n",
    "        \"\"\"Create a comprehensive evaluation dashboard\"\"\"\n",
    "        # Prepare data for visualization\n",
    "        models = ['custom', 'word2vec', 'glove', 'fasttext']\n",
    "        \n",
    "        # Extract metrics\n",
    "        analogy_scores = []\n",
    "        coherence_scores = []\n",
    "        \n",
    "        for model in models:\n",
    "            # Analogy accuracy\n",
    "            if model in self.analogy_accuracy:\n",
    "                analogy_scores.append(self.analogy_accuracy[model]['accuracy'])\n",
    "            else:\n",
    "                analogy_scores.append(0)\n",
    "            \n",
    "            # Semantic coherence\n",
    "            if model in self.semantic_coherence:\n",
    "                coherence_scores.append(np.mean(self.semantic_coherence[model]))\n",
    "            else:\n",
    "                coherence_scores.append(0)\n",
    "        \n",
    "        # Create comparison plots\n",
    "        fig, axes = plt.subplots(2, 2, figsize=(16, 12))\n",
    "        \n",
    "        # 1. Analogy Accuracy Comparison\n",
    "        ax1 = axes[0, 0]\n",
    "        bars1 = ax1.bar(models, analogy_scores, color=['#FF6B6B', '#4ECDC4', '#45B7D1', '#96CEB4'])\n",
    "        ax1.set_title('Analogy Task Accuracy', fontsize=14, fontweight='bold')\n",
    "        ax1.set_ylabel('Accuracy')\n",
    "        ax1.set_ylim(0, 1)\n",
    "        \n",
    "        # Add value labels on bars\n",
    "        for bar, score in zip(bars1, analogy_scores):\n",
    "            height = bar.get_height()\n",
    "            ax1.text(bar.get_x() + bar.get_width()/2., height + 0.01,\n",
    "                    f'{score:.2%}', ha='center', va='bottom')\n",
    "        \n",
    "        # 2. Semantic Coherence Comparison\n",
    "        ax2 = axes[0, 1]\n",
    "        bars2 = ax2.bar(models, coherence_scores, color=['#FF6B6B', '#4ECDC4', '#45B7D1', '#96CEB4'])\n",
    "        ax2.set_title('Semantic Coherence', fontsize=14, fontweight='bold')\n",
    "        ax2.set_ylabel('Average Cosine Similarity')\n",
    "        ax2.set_ylim(0, 1)\n",
    "        \n",
    "        for bar, score in zip(bars2, coherence_scores):\n",
    "            height = bar.get_height()\n",
    "            ax2.text(bar.get_x() + bar.get_width()/2., height + 0.01,\n",
    "                    f'{score:.3f}', ha='center', va='bottom')\n",
    "        \n",
    "        # 3. Radar Chart for Overall Performance\n",
    "        ax3 = axes[1, 0]\n",
    "        \n",
    "        # Normalize scores for radar chart\n",
    "        metrics = ['Analogy\\nAccuracy', 'Semantic\\nCoherence']\n",
    "        \n",
    "        angles = np.linspace(0, 2 * np.pi, len(metrics), endpoint=False).tolist()\n",
    "        angles += angles[:1]  # Complete the circle\n",
    "        \n",
    "        colors = ['#FF6B6B', '#4ECDC4', '#45B7D1', '#96CEB4']\n",
    "        \n",
    "        for i, model in enumerate(models):\n",
    "            values = [analogy_scores[i], coherence_scores[i]]\n",
    "            values += values[:1]  # Complete the circle\n",
    "            \n",
    "            ax3.plot(angles, values, 'o-', linewidth=2, label=model, color=colors[i])\n",
    "            ax3.fill(angles, values, alpha=0.25, color=colors[i])\n",
    "        \n",
    "        ax3.set_xticks(angles[:-1])\n",
    "        ax3.set_xticklabels(metrics)\n",
    "        ax3.set_ylim(0, 1)\n",
    "        ax3.set_title('Overall Performance Radar', fontsize=14, fontweight='bold')\n",
    "        ax3.legend(loc='upper right', bbox_to_anchor=(1.3, 1.0))\n",
    "        ax3.grid(True)\n",
    "        \n",
    "        # 4. Model Ranking\n",
    "        ax4 = axes[1, 1]\n",
    "        \n",
    "        # Calculate overall scores (weighted average)\n",
    "        overall_scores = []\n",
    "        for i in range(len(models)):\n",
    "            # Weight: 50% analogy, 50% coherence\n",
    "            overall = 0.5 * analogy_scores[i] + 0.5 * coherence_scores[i]\n",
    "            overall_scores.append(overall)\n",
    "        \n",
    "        # Sort models by overall score\n",
    "        model_scores = list(zip(models, overall_scores))\n",
    "        model_scores.sort(key=lambda x: x[1], reverse=True)\n",
    "        \n",
    "        sorted_models, sorted_scores = zip(*model_scores)\n",
    "        \n",
    "        bars4 = ax4.barh(range(len(sorted_models)), sorted_scores, \n",
    "                        color=['#FFD93D', '#6BCF7F', '#4D96FF', '#FF6B9D'])\n",
    "        ax4.set_yticks(range(len(sorted_models)))\n",
    "        ax4.set_yticklabels(sorted_models)\n",
    "        ax4.set_xlabel('Overall Score')\n",
    "        ax4.set_title('Model Ranking', fontsize=14, fontweight='bold')\n",
    "        \n",
    "        for i, (bar, score) in enumerate(zip(bars4, sorted_scores)):\n",
    "            width = bar.get_width()\n",
    "            ax4.text(width + 0.01, bar.get_y() + bar.get_height()/2.,\n",
    "                    f'{score:.3f}', ha='left', va='center')\n",
    "        \n",
    "        plt.tight_layout()\n",
    "        plt.suptitle('Word Embeddings Quality Evaluation Dashboard', \n",
    "                    y=1.02, fontsize=16, fontweight='bold')\n",
    "        plt.show()\n",
    "        \n",
    "        return model_scores\n",
    "    \n",
    "    def generate_detailed_report(self, model_ranking):\n",
    "        \"\"\"Generate a detailed evaluation report\"\"\"\n",
    "        print(\"\\n\" + \"=\"*60)\n",
    "        print(\"📊 COMPREHENSIVE WORD EMBEDDINGS EVALUATION REPORT\")\n",
    "        print(\"=\"*60)\n",
    "        \n",
    "        print(\"\\n🏆 FINAL RANKINGS:\")\n",
    "        print(\"-\" * 30)\n",
    "        for i, (model, score) in enumerate(model_ranking, 1):\n",
    "            medal = \"🥇\" if i == 1 else \"🥈\" if i == 2 else \"🥉\" if i == 3 else \"📍\"\n",
    "            print(f\"{medal} {i}. {model.upper():12} - Score: {score:.3f}\")\n",
    "        \n",
    "        print(\"\\n📈 DETAILED METRICS:\")\n",
    "        print(\"-\" * 40)\n",
    "        \n",
    "        print(\"\\n🧩 Analogy Task Performance:\")\n",
    "        for model, accuracy_data in self.analogy_accuracy.items():\n",
    "            if accuracy_data['total'] > 0:\n",
    "                print(f\"  {model:12}: {accuracy_data['accuracy']:.2%} \"\n",
    "                      f\"({accuracy_data['correct']}/{accuracy_data['total']})\")\n",
    "        \n",
    "        print(\"\\n🎯 Semantic Coherence by Category:\")\n",
    "        categories = list(semantic_categories.keys())\n",
    "        for category in categories:\n",
    "            print(f\"\\n  📂 {category.title()}:\")\n",
    "            for model in ['custom', 'word2vec', 'glove', 'fasttext']:\n",
    "                if (model in self.semantic_coherence and \n",
    "                    len(self.semantic_coherence[model]) > categories.index(category)):\n",
    "                    score = self.semantic_coherence[model][categories.index(category)]\n",
    "                    print(f\"    {model:12}: {score:.3f}\")\n",
    "        \n",
    "        print(\"\\n💡 RECOMMENDATIONS:\")\n",
    "        print(\"-\" * 25)\n",
    "        \n",
    "        best_model = model_ranking[0][0]\n",
    "        if best_model == 'custom':\n",
    "            print(\"✅ Your custom embeddings perform excellently!\")\n",
    "            print(\"   Consider using them for your specific domain.\")\n",
    "        else:\n",
    "            print(f\"📊 {best_model.title()} performs best overall.\")\n",
    "            print(\"   Your custom embeddings may benefit from:\")\n",
    "            print(\"   • More training data\")\n",
    "            print(\"   • Different training parameters\")\n",
    "            print(\"   • Domain-specific fine-tuning\")\n",
    "        \n",
    "        print(\"\\n🔍 ANALYSIS INSIGHTS:\")\n",
    "        print(\"-\" * 25)\n",
    "        print(\"• Analogy tasks test logical relationships\")\n",
    "        print(\"• Semantic coherence measures category consistency\")\n",
    "        print(\"• Consider your specific use case when choosing embeddings\")\n",
    "        print(\"• Domain-specific embeddings may outperform general ones\")\n",
    "        \n",
    "        print(\"\\n\" + \"=\"*60)\n",
    "        print(\"📋 EVALUATION COMPLETE\")\n",
    "        print(\"=\"*60)\n",
    "\n",
    "# Run comprehensive evaluation\n",
    "if ('custom_loader' in locals() and 'analogy_results' in locals() and \n",
    "    'semantic_results' in locals()):\n",
    "    \n",
    "    print(\"📊 Creating comprehensive evaluation dashboard...\")\n",
    "    \n",
    "    # Prepare coherence data for evaluator\n",
    "    coherence_by_model = {}\n",
    "    for category_name, results in semantic_results.items():\n",
    "        for model_name in ['custom', 'word2vec', 'glove', 'fasttext']:\n",
    "            if model_name in results and results[model_name]:\n",
    "                if model_name not in coherence_by_model:\n",
    "                    coherence_by_model[model_name] = []\n",
    "                coherence_by_model[model_name].append(results[model_name]['coherence'])\n",
    "    \n",
    "    # Create comprehensive evaluator\n",
    "    comprehensive_eval = ComprehensiveEvaluator(\n",
    "        similarity_results, accuracy_scores, coherence_by_model\n",
    "    )\n",
    "    \n",
    "    # Generate dashboard and report\n",
    "    model_ranking = comprehensive_eval.create_evaluation_dashboard()\n",
    "    comprehensive_eval.generate_detailed_report(model_ranking)\n",
    "    \n",
    "else:\n",
    "    print(\"⚠️ Some evaluation results are missing. Please run all previous cells.\")"
   ]
  }
 ],
 "metadata": {
  "kernelspec": {
   "display_name": "gpu",
   "language": "python",
   "name": "python3"
  },
  "language_info": {
   "codemirror_mode": {
    "name": "ipython",
    "version": 3
   },
   "file_extension": ".py",
   "mimetype": "text/x-python",
   "name": "python",
   "nbconvert_exporter": "python",
   "pygments_lexer": "ipython3",
   "version": "3.11.8"
  }
 },
 "nbformat": 4,
 "nbformat_minor": 4
}
